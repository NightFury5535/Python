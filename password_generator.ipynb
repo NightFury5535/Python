{
 "cells": [
  {
   "cell_type": "markdown",
   "metadata": {},
   "source": [
    "### Password Generator"
   ]
  },
  {
   "cell_type": "markdown",
   "metadata": {},
   "source": [
    "### Question\n",
    "<p>You are Rio, an expert hacker who participated in the Royal Mint of Spain heist. During the learning process and preparation for the heist, you developed a relationship with fellow robber Tokyo despite The Professor's request for participants not to fraternize. Following the conclusion of the heist, you and Tokyo elope together and spend time hiding on an island, but Tokyo eventually desires to go somewhere else momentarily. Left behind, you are found by law enforcement agents and captured. You are being kept at a secret place and Alicia is planning on torturing you until you spilled the beans about the staged heist. You have only 24 hrs to get out of the facility you are held in before they could put you in a cell. The only way out of here is if you somehow manage to crack the password of the doors of the facility and then replace them with randomly generated passwords. Using Python create a program that generates random password and prints the password with following rules:\n",
    "<ol>\n",
    "<li>6-20 characters</li>\n",
    "<li>at least one uppercase character</li>\n",
    "<li>at least one digit</li>\n",
    "<li>at least one special character (!, @, #, $, %, ^, &, *)</li>\n",
    "<li>no more than 2 characters repeating consecutively</li>\n",
    "</ol>\n",
    "</p>"
   ]
  },
  {
   "cell_type": "markdown",
   "metadata": {},
   "source": [
    "### Answer\n",
    "\n",
    "<p>\n",
    "First a list is created with all the possible character for password. The password generator function is called with the length of the password. The continious checker function will generate and return a random number between 0 and 69. It will also check for continious charater is occuring for the third time and if occured it'll generate a new number. Once the password is generated character checker function is used to check the character count and check the required charater count is meet then it will return Ture else return False. If the conditions are meet password is returned else new password is generated.\n",
    "</p>\n",
    "<b>Recursion is the concept used to generate the password.</b>"
   ]
  },
  {
   "cell_type": "code",
   "execution_count": 148,
   "metadata": {},
   "outputs": [],
   "source": [
    "# imports\n",
    "import random"
   ]
  },
  {
   "cell_type": "code",
   "execution_count": 149,
   "metadata": {},
   "outputs": [],
   "source": [
    "# variable declaration\n",
    "pass_digit = ['0','1','2','3','4','5','6','7','8','9']\n",
    "pass_small = ['a','b','c','d','e','f','g','h','i','j','k','l','m','n','o','p','q','r','s','t','u','v','w','x','y','z']\n",
    "pass_upper = ['A','B','C','D','E','F','G','H','I','J','K','L','M','N','O','P','Q','R','S','T','U','V','W','X','Y','Z']\n",
    "pass_special = ['!','@','#','$','%','^','&','*']\n",
    "\n",
    "continious_count = 0\n",
    "upper_count = 0\n",
    "digit_count = 0\n",
    "special_count = 0\n",
    "small_count = 0\n",
    "\n",
    "previous_index = -1\n",
    "\n",
    "password = ''\n",
    "\n",
    "pass_char = []\n",
    "\n",
    "pass_char.extend(pass_digit)\n",
    "pass_char.extend(pass_small)\n",
    "pass_char.extend(pass_upper)\n",
    "pass_char.extend(pass_special)"
   ]
  },
  {
   "cell_type": "code",
   "execution_count": 150,
   "metadata": {},
   "outputs": [],
   "source": [
    "def continious_checker():\n",
    "    '''This function will check the occurance of two consecutive character and prevent third occurance.'''\n",
    "    global continious_count\n",
    "    n = random_generator()\n",
    "    if(n == previous_index):\n",
    "        continious_count += 1\n",
    "    else:\n",
    "        continious_count = 0\n",
    "    if(continious_count < 2):\n",
    "        return n\n",
    "    else:\n",
    "        return continious_checker()\n"
   ]
  },
  {
   "cell_type": "code",
   "execution_count": 151,
   "metadata": {},
   "outputs": [],
   "source": [
    "def character_checker(password):\n",
    "    ''' This function is used to count the number of digit, upper case, lower case and special character in the password and if the conditions are meet it will return True else return False.\n",
    "    '''\n",
    "    global digit_count\n",
    "    global small_count\n",
    "    global upper_count\n",
    "    global special_count\n",
    "    digit_count = 0\n",
    "    small_count = 0\n",
    "    upper_count = 0\n",
    "    special_count = 0\n",
    "    for c in password:\n",
    "        if(pass_digit.count(c) == 1):\n",
    "            digit_count += 1\n",
    "        if(pass_small.count(c) == 1):\n",
    "            small_count += 1\n",
    "        if(pass_upper.count(c) == 1):\n",
    "            upper_count += 1\n",
    "        if(pass_special.count(c) == 1):\n",
    "            special_count += 1\n",
    "    if(digit_count >= 1 and upper_count >= 1 and special_count >= 1 and small_count >= 1):\n",
    "        return True\n",
    "    else:\n",
    "        return False"
   ]
  },
  {
   "cell_type": "code",
   "execution_count": 152,
   "metadata": {},
   "outputs": [],
   "source": [
    "def password_generator(pass_length):\n",
    "    '''This function is used to generate the password. Till the password matches all the required conditions the function will keep on calling itself until the password is generated'''\n",
    "    global password\n",
    "    global previous_index\n",
    "    password = ''\n",
    "    i = 0\n",
    "    while(i < pass_length):\n",
    "        n = continious_checker()\n",
    "        previous_index = n\n",
    "        c = pass_char[n]\n",
    "        i += 1\n",
    "        password = password + c\n",
    "    is_checked = character_checker(password)\n",
    "    if(is_checked == True):\n",
    "        return password\n",
    "    else:\n",
    "        return password_generator(pass_length)"
   ]
  },
  {
   "cell_type": "code",
   "execution_count": 158,
   "metadata": {},
   "outputs": [
    {
     "output_type": "stream",
     "name": "stdout",
     "text": "length: 16\npassword: TTc6kBhhYZheEP!X\nDigit Count: 1\nUpper Count: 8\nLower Count: 6\nSpecial Count: 1\n"
    }
   ],
   "source": [
    "pass_len = random.randint(6, 20)\n",
    "print('length:',pass_len)\n",
    "p = password_generator(pass_len)\n",
    "print('password:',p)\n",
    "print('Digit Count:',digit_count)\n",
    "print('Upper Count:',upper_count)\n",
    "print('Lower Count:',small_count)\n",
    "print('Special Count:',special_count)"
   ]
  }
 ],
 "metadata": {
  "language_info": {
   "codemirror_mode": {
    "name": "ipython",
    "version": 3
   },
   "file_extension": ".py",
   "mimetype": "text/x-python",
   "name": "python",
   "nbconvert_exporter": "python",
   "pygments_lexer": "ipython3",
   "version": "3.7.6-final"
  },
  "orig_nbformat": 2,
  "kernelspec": {
   "name": "python37364bitbaseconda1e97a5aac42d44f8a6cc1f064361dc78",
   "display_name": "Python 3.7.3 64-bit ('base': conda)"
  }
 },
 "nbformat": 4,
 "nbformat_minor": 2
}