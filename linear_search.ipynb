{
 "cells": [
  {
   "cell_type": "markdown",
   "metadata": {},
   "source": [
    "## Linear Search"
   ]
  },
  {
   "cell_type": "code",
   "execution_count": 19,
   "metadata": {},
   "outputs": [],
   "source": [
    "def linear_search(item,lst):\n",
    "    i = 0\n",
    "    item_found = False\n",
    "    while i < len(lst):\n",
    "        if(item == lst[i]):\n",
    "            item_found = True\n",
    "            break\n",
    "        else:\n",
    "            i += 1\n",
    "    return item_found\n",
    "    "
   ]
  },
  {
   "cell_type": "code",
   "execution_count": 20,
   "metadata": {},
   "outputs": [
    {
     "output_type": "stream",
     "name": "stdout",
     "text": "Item Found.\n"
    }
   ],
   "source": [
    "search_lst = [9,8,3,2,1,6,4,7,5]\n",
    "search_item = 7\n",
    "result = linear_search(search_item,search_lst)\n",
    "if(result == True):\n",
    "    print(\"Item Found.\")\n",
    "else:\n",
    "    print(\"Item Not Found.\")"
   ]
  },
  {
   "cell_type": "code",
   "execution_count": 21,
   "metadata": {},
   "outputs": [
    {
     "output_type": "stream",
     "name": "stdout",
     "text": "Item Not Found.\n"
    }
   ],
   "source": [
    "search_lst = [9,8,3,2,1,6,4,7,5]\n",
    "search_item = 10\n",
    "result = linear_search(search_item,search_lst)\n",
    "if(result == True):\n",
    "    print(\"Item Found.\")\n",
    "else:\n",
    "    print(\"Item Not Found.\")"
   ]
  }
 ],
 "metadata": {
  "language_info": {
   "codemirror_mode": {
    "name": "ipython",
    "version": 3
   },
   "file_extension": ".py",
   "mimetype": "text/x-python",
   "name": "python",
   "nbconvert_exporter": "python",
   "pygments_lexer": "ipython3",
   "version": "3.7.6-final"
  },
  "orig_nbformat": 2,
  "kernelspec": {
   "name": "python37364bitbaseconda1e97a5aac42d44f8a6cc1f064361dc78",
   "display_name": "Python 3.7.3 64-bit ('base': conda)"
  }
 },
 "nbformat": 4,
 "nbformat_minor": 2
}