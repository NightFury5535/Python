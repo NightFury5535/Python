{
 "nbformat": 4,
 "nbformat_minor": 2,
 "metadata": {
  "language_info": {
   "name": "python",
   "codemirror_mode": {
    "name": "ipython",
    "version": 3
   },
   "version": "3.7.6-final"
  },
  "orig_nbformat": 2,
  "file_extension": ".py",
  "mimetype": "text/x-python",
  "name": "python",
  "npconvert_exporter": "python",
  "pygments_lexer": "ipython3",
  "version": 3,
  "kernelspec": {
   "name": "python37364bitbaseconda1e97a5aac42d44f8a6cc1f064361dc78",
   "display_name": "Python 3.7.3 64-bit ('base': conda)"
  }
 },
 "cells": [
  {
   "cell_type": "markdown",
   "metadata": {},
   "source": [
    "## Towers Of Hanoi\n",
    "<p>\n",
    "When moving 3 disks from A to C, we move the top two disks to B and then the bottom disk to C. More generally, when moving n disks from A to C we move n-1 disks to B; we then move the base disk from A to C and then move the stack of n-1 on B to C .\n",
    "</p>"
   ],
   "execution_count": null,
   "outputs": []
  },
  {
   "cell_type": "code",
   "execution_count": 27,
   "metadata": {},
   "outputs": [],
   "source": [
    "# towers\n",
    "source = [3,2,1]\n",
    "temp = []\n",
    "destination = []"
   ]
  },
  {
   "cell_type": "code",
   "execution_count": 28,
   "metadata": {},
   "outputs": [],
   "source": [
    "def towers_of_hanoi(source,temp,destination,n):\n",
    "    print(\"Source:\" + str(source) + \",\" + \"temp:\" + str(temp) +\",\"+\"Destination:\" + str(destination) +\",n:\"+str(n))\n",
    "    if n == 1:\n",
    "        disk = source.pop()\n",
    "        destination.append(disk)\n",
    "    else:\n",
    "        towers_of_hanoi(source,destination,temp,n-1)\n",
    "        towers_of_hanoi(source,temp,destination,1)\n",
    "        towers_of_hanoi(temp,source,destination,n-1)"
   ]
  },
  {
   "cell_type": "code",
   "execution_count": 29,
   "metadata": {},
   "outputs": [
    {
     "output_type": "stream",
     "name": "stdout",
     "text": "Source:[3, 2, 1]\nSteps to solve tower of Hanoi:\nSource:[3, 2, 1],temp:[],Destination:[],n:3\nSource:[3, 2, 1],temp:[],Destination:[],n:2\nSource:[3, 2, 1],temp:[],Destination:[],n:1\nSource:[3, 2],temp:[1],Destination:[],n:1\nSource:[1],temp:[3],Destination:[2],n:1\nSource:[3],temp:[2, 1],Destination:[],n:1\nSource:[2, 1],temp:[],Destination:[3],n:2\nSource:[2, 1],temp:[3],Destination:[],n:1\nSource:[2],temp:[1],Destination:[3],n:1\nSource:[1],temp:[],Destination:[3, 2],n:1\nDestination:[3, 2, 1]\n"
    }
   ],
   "source": [
    "print(\"Source:\" + str(source))\n",
    "print(\"Steps to solve tower of Hanoi:\")\n",
    "towers_of_hanoi(source,temp,destination,3)\n",
    "print(\"Destination:\" + str(destination))"
   ]
  }
 ]
}