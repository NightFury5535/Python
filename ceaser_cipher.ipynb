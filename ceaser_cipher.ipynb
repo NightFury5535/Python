{
 "nbformat": 4,
 "nbformat_minor": 2,
 "metadata": {
  "language_info": {
   "name": "python",
   "codemirror_mode": {
    "name": "ipython",
    "version": 3
   },
   "version": "3.7.6-final"
  },
  "orig_nbformat": 2,
  "file_extension": ".py",
  "mimetype": "text/x-python",
  "name": "python",
  "npconvert_exporter": "python",
  "pygments_lexer": "ipython3",
  "version": 3,
  "kernelspec": {
   "name": "python37364bitbaseconda1e97a5aac42d44f8a6cc1f064361dc78",
   "display_name": "Python 3.7.3 64-bit ('base': conda)"
  }
 },
 "cells": [
  {
   "cell_type": "markdown",
   "metadata": {},
   "source": [
    "<h3>Ceaser Cipher</h3>"
   ],
   "execution_count": null,
   "outputs": []
  },
  {
   "cell_type": "code",
   "execution_count": 9,
   "metadata": {},
   "outputs": [],
   "source": [
    "letters = \"abcdefghijklmnopqrstuvwxyz\";\n",
    ""
   ]
  },
  {
   "cell_type": "code",
   "execution_count": 12,
   "metadata": {},
   "outputs": [],
   "source": [
    "input_text = \"hello\"\n",
    "key_value=3\n",
    "cipher_text = ''\n",
    "plain_text = ''\n",
    "\n",
    "def encription(input,key):\n",
    "    cipher = ''\n",
    "    for l in input:\n",
    "        letter_index = letters.find(l)\n",
    "        current_index = (letter_index + key) % 26\n",
    "        cipher = cipher + letters[current_index]\n",
    "    return cipher\n",
    "\n",
    "def decription(cipher,key):\n",
    "    plain = ''\n",
    "    for c in cipher:\n",
    "        letter_index = letters.find(c)\n",
    "        current_index = (letter_index - key) % 26\n",
    "        plain = plain + letters[current_index]\n",
    "    return plain\n",
    "\n",
    "\n"
   ]
  },
  {
   "cell_type": "code",
   "execution_count": 13,
   "metadata": {},
   "outputs": [
    {
     "output_type": "stream",
     "name": "stdout",
     "text": "The Cipher Text xiwxmrk\n"
    }
   ],
   "source": [
    "cipher_test = encription('testing',4)\n",
    "print(\"The Cipher Text is \" + cipher_test)"
   ]
  },
  {
   "cell_type": "code",
   "execution_count": 14,
   "metadata": {},
   "outputs": [
    {
     "output_type": "stream",
     "name": "stdout",
     "text": "The Plain Text is kkkkkkk\n"
    }
   ],
   "source": [
    "plain_text = decription('xiwxmrk',4)\n",
    "print(\"The Plain Text is \" + plain_text)"
   ]
  },
  {
   "cell_type": "code",
   "execution_count": null,
   "metadata": {},
   "outputs": [],
   "source": []
  }
 ]
}