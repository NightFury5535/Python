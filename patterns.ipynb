{
 "nbformat": 4,
 "nbformat_minor": 2,
 "metadata": {
  "language_info": {
   "name": "python",
   "codemirror_mode": {
    "name": "ipython",
    "version": 3
   },
   "version": "3.7.6-final"
  },
  "orig_nbformat": 2,
  "file_extension": ".py",
  "mimetype": "text/x-python",
  "name": "python",
  "npconvert_exporter": "python",
  "pygments_lexer": "ipython3",
  "version": 3,
  "kernelspec": {
   "name": "python37364bitbaseconda1e97a5aac42d44f8a6cc1f064361dc78",
   "display_name": "Python 3.7.3 64-bit ('base': conda)"
  }
 },
 "cells": [
  {
   "cell_type": "markdown",
   "metadata": {},
   "source": [
    "<p>\n",
    "Write a program that takes a list of non-negative integers and prints each integer\n",
    "to the screen the same number of times as the value of the integer, each new value\n",
    "on a new line. For example\n",
    "[2,3,4,1] would print:</br>\n",
    "22</br>\n",
    "333</br>\n",
    "4444</br>\n",
    "1</br>\n",
    "</p>"
   ]
  },
  {
   "cell_type": "code",
   "execution_count": 1,
   "metadata": {},
   "outputs": [
    {
     "output_type": "stream",
     "name": "stdout",
     "text": "55555\n22\n4444\n333\n1\n"
    }
   ],
   "source": [
    "lst = [5,2,4,3,1]\n",
    "\n",
    "for item in lst:\n",
    "    value = str(item) * item\n",
    "    print(value)"
   ]
  },
  {
   "cell_type": "markdown",
   "metadata": {},
   "source": [
    "<p>*</br>\n",
    "* *</br>\n",
    "* * *</br>\n",
    "* * * *</br>\n",
    "* * * * *\n",
    "</p>"
   ]
  },
  {
   "cell_type": "code",
   "execution_count": 2,
   "metadata": {},
   "outputs": [
    {
     "output_type": "stream",
     "name": "stdout",
     "text": "*\n**\n***\n****\n*****\n"
    }
   ],
   "source": [
    "def half_pyramid(size):\n",
    "    i = 1\n",
    "    while(i<=size):\n",
    "        val = \"*\" * i\n",
    "        print(val)\n",
    "        i += 1\n",
    "\n",
    "half_pyramid(5)"
   ]
  },
  {
   "cell_type": "markdown",
   "metadata": {},
   "source": [
    "<p>* * * * *</br>\n",
    "* * * *</br>\n",
    "* * * </br>\n",
    "* *</br>\n",
    "*</p>"
   ]
  },
  {
   "cell_type": "code",
   "execution_count": 3,
   "metadata": {},
   "outputs": [
    {
     "output_type": "stream",
     "name": "stdout",
     "text": "*****\n****\n***\n**\n*\n"
    }
   ],
   "source": [
    "def inverted_half_pyramid(size):\n",
    "    while(size>0):\n",
    "        val = \"*\" * size\n",
    "        print(val)\n",
    "        size -= 1\n",
    "inverted_half_pyramid(5)"
   ]
  },
  {
   "cell_type": "code",
   "execution_count": 4,
   "metadata": {},
   "outputs": [
    {
     "output_type": "stream",
     "name": "stdout",
     "text": "Triangle\n        * \n       * * \n      * * * \n     * * * * \n    * * * * * \n"
    }
   ],
   "source": [
    "def triangle(size):\n",
    "    z = 2*size - 2\n",
    "    print(\"Triangle\")\n",
    "    for x in range(0,size):   \n",
    "        for y in range(0,z): \n",
    "            print(end=\" \")\n",
    "            \n",
    "        z -= 1\n",
    "\n",
    "        for y in range(0, x+1): \n",
    "            print(\"* \", end=\"\") \n",
    "\n",
    "        print(\"\\r\") \n",
    "\n",
    "triangle(5)"
   ]
  },
  {
   "cell_type": "markdown",
   "metadata": {},
   "source": [
    "<p>\n",
    "1 </br>\n",
    "1 2 </br>\n",
    "1 2 3 </br>\n",
    "1 2 3 4 </br>\n",
    "1 2 3 4 5 </br>\n",
    "</p>"
   ]
  },
  {
   "cell_type": "code",
   "execution_count": 5,
   "metadata": {},
   "outputs": [
    {
     "output_type": "stream",
     "name": "stdout",
     "text": "1 \n1 2 \n1 2 3 \n1 2 3 4 \n1 2 3 4 5 \n"
    }
   ],
   "source": [
    "def half_pyramid_number(size):\n",
    "\n",
    "    for i in range(0,size):\n",
    "        for j in range(0, i+1):\n",
    "            print(j + 1,end=\" \")\n",
    "        print(\"\\r\")\n",
    "half_pyramid_number(5)"
   ]
  },
  {
   "cell_type": "markdown",
   "metadata": {},
   "source": [
    "<p>\n",
    "1 </br>\n",
    "2 3 </br>\n",
    "4 5 6 </br>\n",
    "7 8 9 10 </br>\n",
    "11 12 13 14 15 </br>\n",
    "</p>"
   ]
  },
  {
   "cell_type": "code",
   "execution_count": 6,
   "metadata": {},
   "outputs": [
    {
     "output_type": "stream",
     "name": "stdout",
     "text": "1 \n2 3 \n4 5 6 \n7 8 9 10 \n11 12 13 14 15 \n"
    }
   ],
   "source": [
    "def half_pyramid_continious_number(size):\n",
    "    num = 1\n",
    "    for i in range(0,size):\n",
    "        for j in range(0,i+1):\n",
    "            print(num,end=\" \")\n",
    "            num += 1\n",
    "        print(\"\\r\")\n",
    "half_pyramid_continious_number(5)"
   ]
  }
 ]
}